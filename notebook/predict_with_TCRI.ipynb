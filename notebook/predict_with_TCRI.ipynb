{
 "cells": [
  {
   "cell_type": "code",
   "execution_count": 1,
   "id": "10dbe0dd",
   "metadata": {},
   "outputs": [
    {
     "name": "stdout",
     "output_type": "stream",
     "text": [
      "/wk171/ytkuo/TCRI_paper\n"
     ]
    }
   ],
   "source": [
    "cd ../"
   ]
  },
  {
   "cell_type": "code",
   "execution_count": 2,
   "id": "8d47b932-e429-438d-bcbc-b4d1220fdb68",
   "metadata": {},
   "outputs": [
    {
     "name": "stdout",
     "output_type": "stream",
     "text": [
      "env: CUDA_VISIBLE_DEVICES=-1\n"
     ]
    }
   ],
   "source": [
    "%env CUDA_VISIBLE_DEVICES=-1"
   ]
  },
  {
   "cell_type": "code",
   "execution_count": 3,
   "id": "7cfcf047",
   "metadata": {},
   "outputs": [],
   "source": [
    "import tensorflow as tf\n",
    "from modules.data_handler import ascii_array_to_string\n",
    "import pandas as pd\n",
    "import numpy as np"
   ]
  },
  {
   "cell_type": "code",
   "execution_count": 4,
   "id": "fbe48565-aa6d-45ac-afbe-d2057f330d43",
   "metadata": {},
   "outputs": [],
   "source": [
    "# fet experiment settings from yaml file\n",
    "from modules.experiment_helper import parse_experiment_settings\n",
    "\n",
    "experiment_path = 'experiments/ens01.yml'\n",
    "experiment_settings = parse_experiment_settings(experiment_path)"
   ]
  },
  {
   "cell_type": "code",
   "execution_count": 5,
   "id": "e6b3b911",
   "metadata": {},
   "outputs": [
    {
     "name": "stdout",
     "output_type": "stream",
     "text": [
      "saved_models/ens01/best-MSE\n"
     ]
    }
   ],
   "source": [
    "# load trained model\n",
    "from modules.model_constructor import create_model_by_experiment_path\n",
    "\n",
    "model = create_model_by_experiment_path(experiment_path, version='best-MSE')"
   ]
  },
  {
   "cell_type": "code",
   "execution_count": 6,
   "id": "39ff473b-1bac-47f1-ac11-805443058667",
   "metadata": {},
   "outputs": [
    {
     "name": "stdout",
     "output_type": "stream",
     "text": [
      "WARNING:tensorflow:From /home/ytkuo/anaconda3/lib/python3.8/site-packages/tensorflow/python/ops/array_ops.py:5043: calling gather (from tensorflow.python.ops.array_ops) with validate_indices is deprecated and will be removed in a future version.\n",
      "Instructions for updating:\n",
      "The `validate_indices` argument has no effect. Indices are always validated on CPU and never validated on GPU.\n"
     ]
    }
   ],
   "source": [
    "# load dataset\n",
    "from modules.data_handler import get_tensorflow_datasets\n",
    "\n",
    "datasets = get_tensorflow_datasets(**experiment_settings['data'])"
   ]
  },
  {
   "cell_type": "code",
   "execution_count": 7,
   "id": "c807afa1-ff68-4d8b-ab23-c31a7f41633f",
   "metadata": {},
   "outputs": [],
   "source": [
    "df = pd.DataFrame(columns=['now','24h_Vmax', 'pred_24h_Vmax', 'starting_frame'])\n",
    "for image_sequences, labels, feature,frame_ID_ascii, dV in datasets['test']:\n",
    "    starting_frame = list(map(ascii_array_to_string, frame_ID_ascii.numpy()))\n",
    "    pred = np.squeeze(model(image_sequences, feature).numpy())\n",
    "    V24 = labels.numpy()\n",
    "    now = V24 - dV.numpy()\n",
    "    batch_size = pred.shape[0]\n",
    "    for i in range(batch_size):\n",
    "        df.loc[df.shape[0]] = [now[i], V24[i], pred[i], starting_frame[i]]   "
   ]
  },
  {
   "cell_type": "code",
   "execution_count": 8,
   "id": "74c4cb42-aa69-4281-9b16-1cebb6f56cab",
   "metadata": {},
   "outputs": [],
   "source": [
    "df = df.sort_values(['starting_frame'])\n",
    "df['pred_24h_Vmax'] = df['pred_24h_Vmax'].map('{:,.2f}'.format)"
   ]
  },
  {
   "cell_type": "code",
   "execution_count": 9,
   "id": "c6458c19-a3ff-40e5-9342-334ff055543c",
   "metadata": {
    "scrolled": true
   },
   "outputs": [
    {
     "data": {
      "text/html": [
       "<div>\n",
       "<style scoped>\n",
       "    .dataframe tbody tr th:only-of-type {\n",
       "        vertical-align: middle;\n",
       "    }\n",
       "\n",
       "    .dataframe tbody tr th {\n",
       "        vertical-align: top;\n",
       "    }\n",
       "\n",
       "    .dataframe thead th {\n",
       "        text-align: right;\n",
       "    }\n",
       "</style>\n",
       "<table border=\"1\" class=\"dataframe\">\n",
       "  <thead>\n",
       "    <tr style=\"text-align: right;\">\n",
       "      <th></th>\n",
       "      <th>now</th>\n",
       "      <th>24h_Vmax</th>\n",
       "      <th>pred_24h_Vmax</th>\n",
       "      <th>starting_frame</th>\n",
       "    </tr>\n",
       "  </thead>\n",
       "  <tbody>\n",
       "    <tr>\n",
       "      <th>652</th>\n",
       "      <td>25.0</td>\n",
       "      <td>40.0</td>\n",
       "      <td>61.18</td>\n",
       "      <td>201701I_2017041412</td>\n",
       "    </tr>\n",
       "    <tr>\n",
       "      <th>705</th>\n",
       "      <td>25.0</td>\n",
       "      <td>43.0</td>\n",
       "      <td>58.48</td>\n",
       "      <td>201701I_2017041415</td>\n",
       "    </tr>\n",
       "    <tr>\n",
       "      <th>1079</th>\n",
       "      <td>25.0</td>\n",
       "      <td>45.0</td>\n",
       "      <td>51.35</td>\n",
       "      <td>201701I_2017041418</td>\n",
       "    </tr>\n",
       "    <tr>\n",
       "      <th>246</th>\n",
       "      <td>28.0</td>\n",
       "      <td>48.0</td>\n",
       "      <td>53.73</td>\n",
       "      <td>201701I_2017041421</td>\n",
       "    </tr>\n",
       "    <tr>\n",
       "      <th>2001</th>\n",
       "      <td>30.0</td>\n",
       "      <td>50.0</td>\n",
       "      <td>53.37</td>\n",
       "      <td>201701I_2017041500</td>\n",
       "    </tr>\n",
       "    <tr>\n",
       "      <th>1842</th>\n",
       "      <td>33.0</td>\n",
       "      <td>50.0</td>\n",
       "      <td>48.53</td>\n",
       "      <td>201701I_2017041503</td>\n",
       "    </tr>\n",
       "    <tr>\n",
       "      <th>903</th>\n",
       "      <td>35.0</td>\n",
       "      <td>50.0</td>\n",
       "      <td>49.90</td>\n",
       "      <td>201701I_2017041506</td>\n",
       "    </tr>\n",
       "    <tr>\n",
       "      <th>821</th>\n",
       "      <td>38.0</td>\n",
       "      <td>48.0</td>\n",
       "      <td>52.11</td>\n",
       "      <td>201701I_2017041509</td>\n",
       "    </tr>\n",
       "    <tr>\n",
       "      <th>856</th>\n",
       "      <td>40.0</td>\n",
       "      <td>45.0</td>\n",
       "      <td>47.34</td>\n",
       "      <td>201701I_2017041512</td>\n",
       "    </tr>\n",
       "    <tr>\n",
       "      <th>314</th>\n",
       "      <td>43.0</td>\n",
       "      <td>40.0</td>\n",
       "      <td>45.22</td>\n",
       "      <td>201701I_2017041515</td>\n",
       "    </tr>\n",
       "  </tbody>\n",
       "</table>\n",
       "</div>"
      ],
      "text/plain": [
       "       now  24h_Vmax pred_24h_Vmax      starting_frame\n",
       "652   25.0      40.0         61.18  201701I_2017041412\n",
       "705   25.0      43.0         58.48  201701I_2017041415\n",
       "1079  25.0      45.0         51.35  201701I_2017041418\n",
       "246   28.0      48.0         53.73  201701I_2017041421\n",
       "2001  30.0      50.0         53.37  201701I_2017041500\n",
       "1842  33.0      50.0         48.53  201701I_2017041503\n",
       "903   35.0      50.0         49.90  201701I_2017041506\n",
       "821   38.0      48.0         52.11  201701I_2017041509\n",
       "856   40.0      45.0         47.34  201701I_2017041512\n",
       "314   43.0      40.0         45.22  201701I_2017041515"
      ]
     },
     "execution_count": 9,
     "metadata": {},
     "output_type": "execute_result"
    }
   ],
   "source": [
    "df.head(10)"
   ]
  },
  {
   "cell_type": "code",
   "execution_count": 10,
   "id": "aba0a4e9",
   "metadata": {},
   "outputs": [],
   "source": [
    "df.to_csv(f'./saved_csv/{experiment_path[-9:-4]}.csv', index = False)"
   ]
  },
  {
   "cell_type": "code",
   "execution_count": null,
   "id": "d4df2a75",
   "metadata": {},
   "outputs": [],
   "source": []
  }
 ],
 "metadata": {
  "kernelspec": {
   "display_name": "Python 3 (ipykernel)",
   "language": "python",
   "name": "python3"
  },
  "language_info": {
   "codemirror_mode": {
    "name": "ipython",
    "version": 3
   },
   "file_extension": ".py",
   "mimetype": "text/x-python",
   "name": "python",
   "nbconvert_exporter": "python",
   "pygments_lexer": "ipython3",
   "version": "3.11.5"
  }
 },
 "nbformat": 4,
 "nbformat_minor": 5
}
